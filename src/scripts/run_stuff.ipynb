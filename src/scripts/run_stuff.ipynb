{
 "cells": [
  {
   "cell_type": "code",
   "execution_count": 12,
   "id": "b613f101-6264-43ec-890d-24f6b251c111",
   "metadata": {},
   "outputs": [],
   "source": [
    "from astropy.cosmology import Planck18\n",
    "import astropy.units as u\n",
    "import lal\n",
    "import lalsimulation as lalsim\n",
    "import numpy as np\n",
    "import os.path as op\n",
    "import sys\n",
    "import pandas as pd\n",
    "import paths\n",
    "from tqdm import tqdm, trange\n",
    "import weighting\n",
    "import scipy.integrate as sint\n",
    "import intensity_models\n",
    "from fisher_snrs import compute_snrs\n",
    "import mock_injections"
   ]
  },
  {
   "cell_type": "markdown",
   "id": "a080cb27-23b2-4783-b943-0dbab84060b0",
   "metadata": {},
   "source": [
    "### mock injections"
   ]
  },
  {
   "cell_type": "code",
   "execution_count": 15,
   "id": "05ed1e3d-b551-47a5-9064-0deb5ab1860e",
   "metadata": {},
   "outputs": [],
   "source": [
    "SENSITIVITIES = {'aLIGO': lalsim.SimNoisePSDaLIGODesignSensitivityP1200087,\n",
    "                'aplus': lalsim.SimNoisePSDaLIGOAPlusDesignSensitivityT1800042,\n",
    "                'CE': lalsim.SimNoisePSDCosmicExplorerP1600143}\n"
   ]
  },
  {
   "cell_type": "code",
   "execution_count": 21,
   "id": "54e61528-dcd8-4247-ba82-26fc08e2af9d",
   "metadata": {},
   "outputs": [
    {
     "data": {
      "text/plain": [
       "Index(['m1', 'q', 'z', 'a1', 'a2', 'cos_tilt_1', 'cos_tilt_2', 'pdraw_m1sqz',\n",
       "       'ndraw', 'dm1sz_dm1ddl'],\n",
       "      dtype='object')"
      ]
     },
     "execution_count": 21,
     "metadata": {},
     "output_type": "execute_result"
    }
   ],
   "source": [
    "pe_samples = pd.read_hdf('../../reproduce/selection_samples.h5', 'samples')\n",
    "pe_samples.keys()"
   ]
  },
  {
   "cell_type": "code",
   "execution_count": null,
   "id": "d6508ea0-dc2a-447c-b93e-508d4285f8ff",
   "metadata": {},
   "outputs": [],
   "source": [
    "config_file = \"path/to/your/config.yaml\"\n",
    "outfile = \"path/to/your/output.json\""
   ]
  },
  {
   "cell_type": "code",
   "execution_count": 13,
   "id": "9bc8b84c-98f0-4717-beb3-583fc6632efc",
   "metadata": {},
   "outputs": [
    {
     "ename": "FileNotFoundError",
     "evalue": "[Errno 2] No such file or directory: '-f'",
     "output_type": "error",
     "traceback": [
      "\u001b[31m---------------------------------------------------------------------------\u001b[39m",
      "\u001b[31mFileNotFoundError\u001b[39m                         Traceback (most recent call last)",
      "\u001b[36mCell\u001b[39m\u001b[36m \u001b[39m\u001b[32mIn[13]\u001b[39m\u001b[32m, line 6\u001b[39m\n\u001b[32m      2\u001b[39m outfile = sys.argv[\u001b[32m2\u001b[39m]\n\u001b[32m      4\u001b[39m population_parameters = \u001b[38;5;28mdict\u001b[39m()\n\u001b[32m----> \u001b[39m\u001b[32m6\u001b[39m \u001b[38;5;28;01mwith\u001b[39;00m \u001b[38;5;28;43mopen\u001b[39;49m\u001b[43m(\u001b[49m\u001b[43mconfig_file\u001b[49m\u001b[43m)\u001b[49m \u001b[38;5;28;01mas\u001b[39;00m param_file:\n\u001b[32m      7\u001b[39m     \u001b[38;5;28;01mfor\u001b[39;00m line \u001b[38;5;129;01min\u001b[39;00m param_file:\n\u001b[32m      8\u001b[39m         (key, val) = line.split(\u001b[33m'\u001b[39m\u001b[33m=\u001b[39m\u001b[33m'\u001b[39m)\n",
      "\u001b[36mFile \u001b[39m\u001b[32m~/opt/anaconda3/lib/python3.11/site-packages/IPython/core/interactiveshell.py:327\u001b[39m, in \u001b[36m_modified_open\u001b[39m\u001b[34m(file, *args, **kwargs)\u001b[39m\n\u001b[32m    320\u001b[39m \u001b[38;5;28;01mif\u001b[39;00m file \u001b[38;5;129;01min\u001b[39;00m {\u001b[32m0\u001b[39m, \u001b[32m1\u001b[39m, \u001b[32m2\u001b[39m}:\n\u001b[32m    321\u001b[39m     \u001b[38;5;28;01mraise\u001b[39;00m \u001b[38;5;167;01mValueError\u001b[39;00m(\n\u001b[32m    322\u001b[39m         \u001b[33mf\u001b[39m\u001b[33m\"\u001b[39m\u001b[33mIPython won\u001b[39m\u001b[33m'\u001b[39m\u001b[33mt let you open fd=\u001b[39m\u001b[38;5;132;01m{\u001b[39;00mfile\u001b[38;5;132;01m}\u001b[39;00m\u001b[33m by default \u001b[39m\u001b[33m\"\u001b[39m\n\u001b[32m    323\u001b[39m         \u001b[33m\"\u001b[39m\u001b[33mas it is likely to crash IPython. If you know what you are doing, \u001b[39m\u001b[33m\"\u001b[39m\n\u001b[32m    324\u001b[39m         \u001b[33m\"\u001b[39m\u001b[33myou can use builtins\u001b[39m\u001b[33m'\u001b[39m\u001b[33m open.\u001b[39m\u001b[33m\"\u001b[39m\n\u001b[32m    325\u001b[39m     )\n\u001b[32m--> \u001b[39m\u001b[32m327\u001b[39m \u001b[38;5;28;01mreturn\u001b[39;00m \u001b[43mio_open\u001b[49m\u001b[43m(\u001b[49m\u001b[43mfile\u001b[49m\u001b[43m,\u001b[49m\u001b[43m \u001b[49m\u001b[43m*\u001b[49m\u001b[43margs\u001b[49m\u001b[43m,\u001b[49m\u001b[43m \u001b[49m\u001b[43m*\u001b[49m\u001b[43m*\u001b[49m\u001b[43mkwargs\u001b[49m\u001b[43m)\u001b[49m\n",
      "\u001b[31mFileNotFoundError\u001b[39m: [Errno 2] No such file or directory: '-f'"
     ]
    }
   ],
   "source": [
    "config_file = sys.argv[1]\n",
    "outfile = sys.argv[2]\n",
    "\n",
    "population_parameters = dict()\n",
    "\n",
    "with open(config_file) as param_file:\n",
    "    for line in param_file:\n",
    "        (key, val) = line.split('=')\n",
    "        population_parameters[key.strip()] = val.strip()\n",
    "        try:\n",
    "            population_parameters[key.strip()] = float(val.strip())\n",
    "        except ValueError:\n",
    "            pass"
   ]
  },
  {
   "cell_type": "code",
   "execution_count": null,
   "id": "d99c1313-70bc-4b04-94ab-e1d27771b6b1",
   "metadata": {},
   "outputs": [],
   "source": [
    "snr_threshold = population_parameters.pop('snr_threshold', 0)\n",
    "ndraw = int(population_parameters.pop('ndraw', 1000000))\n",
    "sensitivity = population_parameters.pop('sensitivity', 'aLIGO')\n",
    "detectors = population_parameters.pop('detectors', 'H1,L1').split(',')\n",
    "\n",
    "custom_cosmo = intensity_models.FlatwCDMCosmology(population_parameters['h'], population_parameters['Om'], population_parameters['w'], population_parameters['zmax'])\n",
    "population_parameters['cosmo'] = custom_cosmo\n",
    "print(\"Using the following custom population_parameters: \" + str(population_parameters))"
   ]
  },
  {
   "cell_type": "code",
   "execution_count": null,
   "id": "b23b765d-fbde-4a0a-88bd-73083e83a088",
   "metadata": {},
   "outputs": [],
   "source": [
    "zpdf = ZPDF(lam=population_parameters[\"lam\"], kappa=population_parameters[\"kappa\"], zp=population_parameters[\"zp\"], zmax = population_parameters.get(\"zmax\", 20), cosmo=population_parameters[\"cosmo\"])\n",
    "    mpdf = PowerLawPDF(1.8, population_parameters[\"mbh_min\"], 400)\n",
    "\n",
    "    #rng = np.random.default_rng(333165393797366967556667466879860422123)\n",
    "    rng = np.random.default_rng()\n",
    "\n",
    "    #df = pd.DataFrame(columns = ['m1', 'q', 'z', 'iota', 'ra', 'dec', 'psi', 'gmst', 's1x', 's1y', 's1z', 's2x', 's2y', 's2z', 'pdraw_mqz', 'SNR_H1', 'SNR_L1', 'SNR_V1', 'SNR'])\n",
    "    print(\"drawing zs and ms\")\n",
    "    z = zpdf.icdf(rng.uniform(low=0, high=1, size=ndraw))\n",
    "    m = mpdf.icdf(rng.uniform(low=0, high=1, size=ndraw))\n",
    "    print(\"drawing mts\")\n",
    "    mtpdf = PowerLawPDF(2, m+population_parameters['mbh_min'], 2 * m)\n",
    "\n",
    "    mt = mtpdf.icdf(rng.uniform(low=0, high=1, size=ndraw))\n",
    "\n",
    "    m2 = mt - m\n",
    "    q = m2/m\n",
    "\n",
    "    print(\"calculating pdraws\")\n",
    "    pdraw = mpdf(m)*(mtpdf(mt)*m)*zpdf(z)\n",
    "\n",
    "    m1d = m * (1 + z)\n",
    "    iota = np.arccos(rng.uniform(low=-1, high=1, size=ndraw))\n",
    "\n",
    "    ra = rng.uniform(low=0, high=2*np.pi, size=ndraw)\n",
    "    dec = np.arcsin(rng.uniform(low=-1, high=1, size=ndraw))\n",
    "\n",
    "    # 0 < psi < pi, uniformly distributed\n",
    "    psi = rng.uniform(low=0, high=np.pi, size=ndraw)\n",
    "    gmst = rng.uniform(low=0, high=2*np.pi, size=ndraw)\n",
    "\n",
    "    print(\"assigning spins\")\n",
    "\n",
    "    s1x, s1y, s1z = 0,0,0#rng.normal(loc=0, scale=0.2/np.sqrt(3), size=(3,ndraw))\n",
    "    s2x, s2y, s2z = 0,0,0#rng.normal(loc=0, scale=0.2/np.sqrt(3), size=(3,ndraw))\n",
    "\n",
    "    print(\"calculating dLs\")\n",
    "\n",
    "    dm1sz_dm1ddl = weighting.dm1sz_dm1ddl(z, cosmo=population_parameters['cosmo'])\n",
    "    dL = population_parameters['cosmo'].dL(z)\n",
    "\n",
    "    df = pd.DataFrame({\n",
    "        'm1': m,\n",
    "        'q': q,\n",
    "        'z': z,\n",
    "        'dL': dL,\n",
    "        'm1d': m1d,\n",
    "        'iota': iota,\n",
    "        'ra': ra,\n",
    "        'dec': dec,\n",
    "        'psi': psi,\n",
    "        'gmst': gmst,\n",
    "        's1x': s1x,\n",
    "        's1y': s1y,\n",
    "        's1z': s1z,\n",
    "        's2x': s2x,\n",
    "        's2y': s2y,\n",
    "        's2z': s2z,\n",
    "        'pdraw_mqz': pdraw,\n",
    "        'dm1sz_dm1ddl': dm1sz_dm1ddl\n",
    "    })\n",
    "    if snr_threshold > 0:\n",
    "        df['SNR'] = compute_snrs(df, detectors=detectors, sensitivity=sensitivity)\n",
    "    else:\n",
    "        df['SNR'] = 10000000\n",
    "    p_pop_numerator = weighting.pop_wt(np.array(df['m1']), np.array(df['q']), np.array(df['z']), default=False, **population_parameters)\n",
    "\n",
    "    df['p_pop_weight'] = p_pop_numerator / df['pdraw_mqz']\n",
    "    df['p_pop_numerator'] = p_pop_numerator\n",
    "\n",
    "    random_number = rng.uniform(low=0, high=1, size = len(p_pop_numerator))\n",
    "    sel = random_number < (df['p_pop_weight'] / np.max(df['p_pop_weight']))\n",
    "    population_samples = df[sel]\n",
    "    df_det = population_samples[population_samples['SNR'] > snr_threshold]\n",
    "\n",
    "    print(f\"Retained {len(df_det)} samples after rejection sampling and applying snr cut.\")\n",
    "\n",
    "    df_det.to_hdf(outfile, key='true_parameters')\n",
    "\n",
    "    #nex = np.sum(weighting.default_parameters.R*np.exp(weighting.default_log_dNdmdqdV(df_det['m1'], df_det['q'], df_det['z']))*Planck18.differential_comoving_volume(df_det['z']).to(u.Gpc**3/u.sr).value*4*np.pi/(1+df_det['z'])/df_det['pdraw_mqz'])/len(df)\n",
    "    #nex = calc_nex(df_det, default_settings = default, **population_parameters)\n",
    "    #print('Found {:d} injections with SNR > {:d}'.format(np.sum(df['SNR'] > snr_threshold), snr_threshold))\n",
    "    #print('Predicting {:.0f} detections per year'.format(nex))\n"
   ]
  },
  {
   "cell_type": "code",
   "execution_count": null,
   "id": "844b6498-c0dd-47e6-88e1-1c4b94e8ea8c",
   "metadata": {},
   "outputs": [],
   "source": []
  },
  {
   "cell_type": "markdown",
   "id": "5ea1b032-2b26-4a0a-b761-044387f1d90a",
   "metadata": {},
   "source": [
    "### mock observations"
   ]
  },
  {
   "cell_type": "code",
   "execution_count": 14,
   "id": "e0757b66-fadb-4efa-9778-852984e261d9",
   "metadata": {},
   "outputs": [],
   "source": [
    "from astropy.cosmology import Planck18\n",
    "import astropy.units as u\n",
    "import dataclasses\n",
    "from dataclasses import dataclass\n",
    "import numpy as np\n",
    "import os.path as op\n",
    "import pandas as pd\n",
    "import paths\n",
    "import seaborn as sns\n",
    "from tqdm import tqdm\n",
    "import mock_observations\n"
   ]
  },
  {
   "cell_type": "code",
   "execution_count": null,
   "id": "487d7727-0532-4932-af48-a6a4acbdc7ed",
   "metadata": {},
   "outputs": [],
   "source": []
  },
  {
   "cell_type": "code",
   "execution_count": null,
   "id": "f7421cc1-5b28-4c8f-85c8-0fb067d2986b",
   "metadata": {},
   "outputs": [],
   "source": [
    "rng = np.random.default_rng(181286134409181405721219170031242732711)\n",
    "\n",
    "    inj = pd.read_hdf(op.join(paths.data, 'mock_injections.h5'), key='true_parameters')\n",
    "\n",
    "    inj['SNR_OBS'] = inj['SNR'] + rng.normal(loc=0, scale=np.sqrt(3), size=len(inj))\n",
    "\n",
    "    inj_det = inj[inj['SNR_OBS'] > detection_threshold].copy()\n",
    "    inj_det['mc'] = inj_det['m1'] * inj_det['q']**(3/5) / (1 + inj_det['q'])**(1/5)\n",
    "    inj_det['dl'] = Planck18.luminosity_distance(inj_det['z'].to_numpy()).to(u.Gpc).value\n",
    "    inj_det['mc_det'] = inj_det['mc'] * (1 + inj_det['z'])\n",
    "\n",
    "    log_mc_obs = []\n",
    "    sigma_log_mc = []\n",
    "    q_obs = []\n",
    "    sigma_q = []\n",
    "    log_dl_obs = []\n",
    "    sigma_log_dl = []\n",
    "    for i, row in tqdm(inj_det.iterrows()):\n",
    "        uncert = Uncertainties.from_snr(row['SNR_OBS'])\n",
    "        \n",
    "        log_mc_obs.append(np.log(row['mc_det']) + uncert.sigma_log_mc*rng.normal())\n",
    "        sigma_log_mc.append(uncert.sigma_log_mc)\n",
    "\n",
    "        q_obs.append(row['q'] + uncert.sigma_q*rng.normal())\n",
    "        sigma_q.append(uncert.sigma_q)\n",
    "\n",
    "        log_dl_obs.append(np.log(row['dl']) + uncert.sigma_log_dl*rng.normal())\n",
    "        sigma_log_dl.append(uncert.sigma_log_dl)\n",
    "\n",
    "    inj_det['log_mc_obs'] = log_mc_obs\n",
    "    inj_det['sigma_log_mc'] = sigma_log_mc\n",
    "    inj_det['q_obs'] = q_obs\n",
    "    inj_det['sigma_q'] = sigma_q\n",
    "    inj_det['log_dl_obs'] = log_dl_obs\n",
    "    inj_det['sigma_log_dl'] = sigma_log_dl\n",
    "\n",
    "    inj_det.to_hdf(op.join(paths.data, 'mock_observations.h5'), key='observations')"
   ]
  }
 ],
 "metadata": {
  "kernelspec": {
   "display_name": "Python 3 (ipykernel)",
   "language": "python",
   "name": "python3"
  },
  "language_info": {
   "codemirror_mode": {
    "name": "ipython",
    "version": 3
   },
   "file_extension": ".py",
   "mimetype": "text/x-python",
   "name": "python",
   "nbconvert_exporter": "python",
   "pygments_lexer": "ipython3",
   "version": "3.11.12"
  }
 },
 "nbformat": 4,
 "nbformat_minor": 5
}
