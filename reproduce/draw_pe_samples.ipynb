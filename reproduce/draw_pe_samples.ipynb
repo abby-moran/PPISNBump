{
 "cells": [
  {
   "cell_type": "code",
   "execution_count": 1,
   "id": "9115dd6f-2ead-41e6-89ad-f9b92e154f0d",
   "metadata": {},
   "outputs": [],
   "source": [
    "import matplotlib.pyplot as plt\n",
    "import pandas as pd\n",
    "import h5py\n",
    "import glob\n",
    "from scipy import stats\n",
    "import numpy as np\n",
    "import sys\n",
    "sys.path.append('../src/scripts/')\n",
    "import warnings\n",
    "warnings.filterwarnings(\"ignore\", \"Wswiglal-redir-stdio\")\n",
    "import weighting\n",
    "from utils import chi_effective_prior_from_isotropic_spins\n",
    "from gwpopulation.models.spin import iid_spin_orientation_gaussian_isotropic\n",
    "import pesummary\n",
    "import re\n",
    "import os\n",
    "import gc\n",
    "from pesummary.io import read"
   ]
  },
  {
   "cell_type": "code",
   "execution_count": 2,
   "id": "39917308-3cb5-429f-9309-cb6149092ded",
   "metadata": {},
   "outputs": [],
   "source": [
    "folder1 = \"../../GW_2025/GWTC-21\"\n",
    "folder2 = \"../../GW_2025/GWTC-3\"\n",
    "files = glob.glob(os.path.join(folder1, \"*_nocosmo.h5\"))\n",
    "files += glob.glob(os.path.join(folder2, \"*_nocosmo.h5\"))"
   ]
  },
  {
   "cell_type": "code",
   "execution_count": 3,
   "id": "f35645a7-1836-4e3d-875b-f17583a02b5f",
   "metadata": {},
   "outputs": [],
   "source": [
    "INCLUDE_LIST=[]\n",
    "with open(\"INCLUDE_LIST.txt\", \"r\") as f:\n",
    "    INCLUDE_LIST = set(line.strip() for line in f if line.strip())"
   ]
  },
  {
   "cell_type": "code",
   "execution_count": 4,
   "id": "3a830226-d984-4a53-a8e0-05b712dc6cb3",
   "metadata": {},
   "outputs": [
    {
     "name": "stdout",
     "output_type": "stream",
     "text": [
      "Filtered to 59 files.\n"
     ]
    }
   ],
   "source": [
    "filtered_files = []\n",
    "for f in files:\n",
    "    filename = os.path.basename(f)\n",
    "    parts = re.split(\"_|-\", filename)\n",
    "    if len(parts) >= 2:\n",
    "        event_name = parts[3] + \"_\" + parts[4]\n",
    "        if event_name in INCLUDE_LIST:\n",
    "            filtered_files.append(f)\n",
    "\n",
    "print(f\"Filtered to {len(filtered_files)} files.\")"
   ]
  },
  {
   "cell_type": "code",
   "execution_count": 5,
   "id": "f14593c0-c267-4f11-aea3-27cff97e6f7a",
   "metadata": {},
   "outputs": [],
   "source": [
    "def get_samples_from_event(file, desired_pop_weight=None, far_threshold=1, zmax = 1.9):    \n",
    "    with h5py.File(file, 'r') as f:\n",
    "        if 'PublicationSamples' in f.keys():\n",
    "            # O3a files\n",
    "            samples = np.array(f['PublicationSamples/posterior_samples'])\n",
    "        elif 'C01:Mixed' in f.keys():\n",
    "            # O3b files\n",
    "            samples = np.array(f['C01:Mixed/posterior_samples'])\n",
    "        elif 'PrecessingSpinIMRHM' in f.keys(): #what waveform approximation did we use\n",
    "            samples = np.array(f['PrecessingSpinIMRHM/posterior_samples'])        \n",
    "        else:   \n",
    "            print(f\"Available keys in file {file}: {list(f.keys())}\")\n",
    "            return None\n",
    "            \n",
    "    mask = samples['redshift'] < zmax\n",
    "    m1_det = samples['mass_1'][()][mask]\n",
    "    qs = samples['mass_ratio'][()][mask]\n",
    "    dLs = samples['luminosity_distance'][()][mask] / 1e3\n",
    "        \n",
    "    prior = dLs**2 * m1_det\n",
    "    \n",
    "    return m1_det, qs, dLs, prior"
   ]
  },
  {
   "cell_type": "code",
   "execution_count": 6,
   "id": "07247c10-5a14-4b11-9525-eb4591236e97",
   "metadata": {},
   "outputs": [],
   "source": [
    "event_df = pd.DataFrame()\n"
   ]
  },
  {
   "cell_type": "code",
   "execution_count": 7,
   "id": "267b0af5-c75f-4b14-881f-581172aeb9da",
   "metadata": {},
   "outputs": [
    {
     "name": "stdout",
     "output_type": "stream",
     "text": [
      "Done GW190803_022701\n",
      "Done GW190725_174728\n",
      "Done GW190925_232845\n",
      "Done GW190708_232457\n",
      "Cannot take a larger sample than population when 'replace=False'\n",
      "Done GW190701_203306\n",
      "Done GW190720_000836\n",
      "Done GW190828_065509\n",
      "Done GW190929_012149\n",
      "Done GW190512_180714\n",
      "Done GW190413_134308\n",
      "Done GW190527_092055\n",
      "Done GW190519_153544\n",
      "Done GW190620_030421\n",
      "Done GW190521_074359\n",
      "Done GW190731_140936\n",
      "Done GW190513_205428\n",
      "Done GW190924_021846\n",
      "Done GW190630_185205\n",
      "Done GW190728_064510\n",
      "Done GW190915_235702\n",
      "Done GW190719_215514\n",
      "Done GW190828_063405\n",
      "Done GW190408_181802\n",
      "Done GW190602_175927\n",
      "Done GW190413_052954\n",
      "Done GW190727_060333\n",
      "Done GW190412_053044\n",
      "Done GW190930_133541\n",
      "Done GW190707_093326\n",
      "Done GW190805_211137\n",
      "Done GW190517_055101\n",
      "Done GW190706_222641\n",
      "Done GW190421_213856\n",
      "Done GW190910_112807\n",
      "Done GW190503_185404\n",
      "Done GW200208_130117\n",
      "Done GW200112_155838\n",
      "Done GW200316_215756\n",
      "Done GW200202_154313\n",
      "Done GW200224_222234\n",
      "Done GW191127_050227\n",
      "Done GW191109_010717\n",
      "Done GW191105_143521\n",
      "Done GW191215_223052\n",
      "Done GW200128_022011\n",
      "Done GW200302_015811\n",
      "Done GW191222_033537\n",
      "Done GW191230_180458\n",
      "Done GW200129_065458\n",
      "Done GW200216_220804\n",
      "Done GW200311_115853\n",
      "Done GW191103_012549\n",
      "Done GW191216_213338\n",
      "Done GW200209_085452\n",
      "Done GW200219_094415\n",
      "Done GW200225_060421\n",
      "Done GW191129_134029\n",
      "Done GW191204_171526\n"
     ]
    }
   ],
   "source": [
    "PE_dfs = []\n",
    "for file in filtered_files:\n",
    "    result = get_samples_from_event(file)\n",
    "    if result is None:\n",
    "        continue\n",
    "    df_here = pd.DataFrame()\n",
    "    df_here[\"mass_1\"], df_here[\"mass_ratio\"], df_here[\"luminosity_distance_Gpc\"], df_here[\"prior_m1d_q_dL\"] = result\n",
    "    try:\n",
    "        df_here = df_here.sample(3000, replace=False)\n",
    "    except Exception as e:\n",
    "        print(e)\n",
    "        continue\n",
    "    filename = os.path.basename(file)\n",
    "    parts = re.split(\"_|-\", filename)\n",
    "    event_here = parts[3] + \"_\" + parts[4]\n",
    "    df_here['evt'] = event_here\n",
    "    print(f\"Done {event_here}\")\n",
    "    PE_dfs.append(df_here)"
   ]
  },
  {
   "cell_type": "code",
   "execution_count": 8,
   "id": "6186a155-6db9-4b36-a783-3a1f5ba3b78b",
   "metadata": {},
   "outputs": [],
   "source": [
    "final_df = pd.concat(PE_dfs, ignore_index=True)"
   ]
  },
  {
   "cell_type": "code",
   "execution_count": 9,
   "id": "06e6f68a-f5a6-4942-ada1-dc7112409711",
   "metadata": {},
   "outputs": [],
   "source": [
    "final_df.to_hdf('./pe_samples.h5', key='samples', mode='w')\n"
   ]
  },
  {
   "cell_type": "code",
   "execution_count": null,
   "id": "10a1d1c5-da89-4241-bbe7-9c83b6c308c2",
   "metadata": {},
   "outputs": [],
   "source": []
  }
 ],
 "metadata": {
  "kernelspec": {
   "display_name": "Python 3 (ipykernel)",
   "language": "python",
   "name": "python3"
  },
  "language_info": {
   "codemirror_mode": {
    "name": "ipython",
    "version": 3
   },
   "file_extension": ".py",
   "mimetype": "text/x-python",
   "name": "python",
   "nbconvert_exporter": "python",
   "pygments_lexer": "ipython3",
   "version": "3.11.12"
  }
 },
 "nbformat": 4,
 "nbformat_minor": 5
}
