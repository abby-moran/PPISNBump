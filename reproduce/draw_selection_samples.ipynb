{
 "cells": [
  {
   "cell_type": "code",
   "execution_count": 9,
   "id": "07538d97-5054-4ae7-a85a-b0d3c3a5e57d",
   "metadata": {},
   "outputs": [
    {
     "name": "stdout",
     "output_type": "stream",
     "text": [
      "The autoreload extension is already loaded. To reload it, use:\n",
      "  %reload_ext autoreload\n"
     ]
    }
   ],
   "source": [
    "%load_ext autoreload\n",
    "%autoreload 2"
   ]
  },
  {
   "cell_type": "code",
   "execution_count": 12,
   "id": "220ba3a0-c0b8-4bf2-9595-c4b4b500cbe4",
   "metadata": {},
   "outputs": [],
   "source": [
    "import sys\n",
    "sys.path.append('../src/scripts/')\n",
    "import weighting\n",
    "import numpy as np\n",
    "import matplotlib.pyplot as plt\n",
    "import pandas as pd\n",
    "import h5py\n",
    "from scipy import stats\n",
    "from gwpopulation.models.spin import iid_spin_orientation_gaussian_isotropic"
   ]
  },
  {
   "cell_type": "code",
   "execution_count": 13,
   "id": "fd9bb819-76bb-43f6-8630-791afd05820f",
   "metadata": {},
   "outputs": [],
   "source": [
    "m1, q, z, a1, a2, cos_tilt1, cos_tilt2, pdraw, ndraw = weighting.extract_selection_samples('/home/reed.essick/rates+pop/o3-sensitivity-estimates/LIGO-T2100113-v11/endo3_bbhpop-LIGO-T2100113-v11.hdf5', nsamp=None, desired_pop_wt=None)\n",
    "df = pd.DataFrame({'m1': m1, 'q': q, 'z': z, 'a1': a1, 'a2':a2, 'cos_tilt_1': cos_tilt1, 'cos_tilt_2': cos_tilt2, 'pdraw_m1sqz': pdraw, 'ndraw': ndraw}) #m1 is source frame\n"
   ]
  },
  {
   "cell_type": "code",
   "execution_count": 14,
   "id": "45d8935a-675b-43b8-98fe-9b47f16aa3cd",
   "metadata": {},
   "outputs": [],
   "source": [
    "df['dm1sz_dm1ddl'] = weighting.dm1sz_dm1ddl(df['z'])"
   ]
  },
  {
   "cell_type": "code",
   "execution_count": 17,
   "id": "6d72287d-bbfd-4d01-92bc-560d900e58b5",
   "metadata": {},
   "outputs": [],
   "source": [
    "df.to_hdf('./selection_samples.h5', 'samples')"
   ]
  },
  {
   "cell_type": "code",
   "execution_count": null,
   "id": "8c697027-434f-48d3-ab7c-3221a25b4c98",
   "metadata": {},
   "outputs": [],
   "source": []
  }
 ],
 "metadata": {
  "kernelspec": {
   "display_name": "BumpCosmology",
   "language": "python",
   "name": "bumpcosmology"
  },
  "language_info": {
   "codemirror_mode": {
    "name": "ipython",
    "version": 3
   },
   "file_extension": ".py",
   "mimetype": "text/x-python",
   "name": "python",
   "nbconvert_exporter": "python",
   "pygments_lexer": "ipython3",
   "version": "3.11.5"
  }
 },
 "nbformat": 4,
 "nbformat_minor": 5
}
