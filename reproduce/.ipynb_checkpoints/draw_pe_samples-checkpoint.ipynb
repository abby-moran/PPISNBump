{
 "cells": [
  {
   "cell_type": "code",
   "execution_count": 2,
   "id": "9115dd6f-2ead-41e6-89ad-f9b92e154f0d",
   "metadata": {},
   "outputs": [],
   "source": [
    "import sys\n",
    "sys.path.append('../src/scripts/')\n",
    "import weighting\n",
    "import matplotlib.pyplot as plt\n",
    "import pandas as pd\n",
    "import h5py\n",
    "import glob\n",
    "from scipy import stats\n",
    "import numpy as np\n",
    "from utils import chi_effective_prior_from_isotropic_spins\n",
    "from gwpopulation.models.spin import iid_spin_orientation_gaussian_isotropic"
   ]
  },
  {
   "cell_type": "code",
   "execution_count": 3,
   "id": "be90c199-194f-4553-84d0-e52a1e0fd6a0",
   "metadata": {},
   "outputs": [],
   "source": [
    "files = glob.glob(\"/home/jacob.golomb/O3b/O3*PE/*.h5\")"
   ]
  },
  {
   "cell_type": "code",
   "execution_count": 4,
   "id": "bc735dd2-ac88-4d0a-8d31-d4ff501266ca",
   "metadata": {},
   "outputs": [],
   "source": [
    "IGNORE_LIST = ['GW170817', 'S190425z', 'S200105ae', 'S200115j', 'S190426c', 'S190814bv', 'S190917u']"
   ]
  },
  {
   "cell_type": "code",
   "execution_count": 5,
   "id": "8811e24b-8b8f-4f91-a7f4-fb8643b03b02",
   "metadata": {},
   "outputs": [
    {
     "name": "stdout",
     "output_type": "stream",
     "text": [
      "65\n",
      "Ignoring event S190425z from /home/jacob.golomb/O3b/O3aPE/S190425z.h5\n",
      "Ignoring event S200105ae from /home/jacob.golomb/O3b/O3bPE/S200105ae.h5\n",
      "Ignoring event S200115j from /home/jacob.golomb/O3b/O3bPE/S200115j.h5\n",
      "Ignoring event S190426c from /home/jacob.golomb/O3b/O3aPE/S190426c.h5\n",
      "Ignoring event S190814bv from /home/jacob.golomb/O3b/O3aPE/S190814bv.h5\n",
      "Ignoring event S190917u from /home/jacob.golomb/O3b/O3aPE/S190917u.h5\n",
      "59\n"
     ]
    }
   ],
   "source": [
    "print(len(files))\n",
    "for ignored in IGNORE_LIST:\n",
    "    for file in files:\n",
    "        if ignored in file:\n",
    "            print(f\"Ignoring event {ignored} from {file}\")\n",
    "            files.remove(file)\n",
    "print(len(files))"
   ]
  },
  {
   "cell_type": "code",
   "execution_count": 6,
   "id": "070f118c-50bc-4c56-acde-9bc54a629982",
   "metadata": {},
   "outputs": [],
   "source": [
    "def get_samples_from_event(file, desired_pop_weight=None, far_threshold=1, zmax = 1.9):    \n",
    "    with h5py.File(file, 'r') as f:\n",
    "        if 'PublicationSamples' in f.keys():\n",
    "            # O3a files\n",
    "            samples = np.array(f['PublicationSamples/posterior_samples'])\n",
    "        elif 'C01:Mixed' in f.keys():\n",
    "            # O3b files\n",
    "            samples = np.array(f['C01:Mixed/posterior_samples'])\n",
    "        elif 'PrecessingSpinIMRHM' in f.keys():\n",
    "            samples = np.array(f['PrecessingSpinIMRHM/posterior_samples'])        \n",
    "        else:\n",
    "            raise ValueError(f'could not read samples from file {file}')\n",
    "            \n",
    "    mask = samples['redshift'] < zmax\n",
    "    m1_det = samples['mass_1'][()][mask]\n",
    "    qs = samples['mass_ratio'][()][mask]\n",
    "    dLs = samples['luminosity_distance'][()][mask] / 1e3\n",
    "        \n",
    "    prior = dLs**2 * m1_det\n",
    "    \n",
    "    return m1_det, qs, dLs, prior\n",
    "    \n",
    "    "
   ]
  },
  {
   "cell_type": "code",
   "execution_count": 7,
   "id": "91ed06c2-dfdf-42bf-aed7-895034e77e87",
   "metadata": {},
   "outputs": [],
   "source": [
    "event_df = pd.DataFrame()"
   ]
  },
  {
   "cell_type": "code",
   "execution_count": 9,
   "id": "6d79069a-7b8b-4fd5-b05e-ce4d87ae7aa1",
   "metadata": {},
   "outputs": [
    {
     "name": "stdout",
     "output_type": "stream",
     "text": [
      "Done S191105e\n",
      "Done S191204r\n",
      "Done S191216ap\n",
      "Done S191103a\n",
      "Done S200112r\n",
      "Done S191129u\n",
      "Done S200302c\n",
      "Done S191230an\n",
      "Done S191127p\n",
      "Done S200224ca\n",
      "Done S191222n\n",
      "Done S200202ac\n",
      "Done S191215w\n",
      "Done S200128d\n",
      "Done S200316bj\n",
      "Done S191109d\n",
      "Done S200311bg\n",
      "Done S200129m\n",
      "Done S200225q\n",
      "Done S200219ac\n",
      "Done S200209ab\n",
      "Done S200216br\n",
      "Done S200208q\n",
      "Done S190708ap\n",
      "Done S190915ak\n",
      "Done S190828l\n",
      "Done S190408an\n",
      "Done S190519bj\n",
      "Done S190910s\n",
      "Done S190602aq\n",
      "Done S190725t\n",
      "Done S190413ac\n",
      "Done S190707q\n",
      "Done S190828j\n",
      "Done S190727h\n",
      "Done S190706ai\n",
      "Done S190503bf\n",
      "Done S190412m\n",
      "Done S190413i\n",
      "Done S190731aa\n",
      "Done S190805bq\n",
      "Done S190630ag\n",
      "Done S190803e\n",
      "Done S190512at\n",
      "Done S190929d\n",
      "Done S190517h\n",
      "Done S190513bm\n",
      "Done S190719an\n",
      "Done S190728q\n",
      "Done S190720a\n",
      "Done S190521r\n",
      "Done S190421ar\n",
      "Done S190925ad\n",
      "Done S190521g\n",
      "Done S190620e\n",
      "Done S190930s\n",
      "Done S190924h\n",
      "Done S190701ah\n",
      "Done S190527w\n"
     ]
    }
   ],
   "source": [
    "PE_dfs = []\n",
    "for file in files:\n",
    "    df_here = pd.DataFrame()\n",
    "    df_here[\"mass_1\"], df_here[\"mass_ratio\"], df_here[\"luminosity_distance_Gpc\"], df_here[\"prior_m1d_q_dL\"] = get_samples_from_event(file)\n",
    "    df_here = df_here.sample(3000)\n",
    "    event_here = file.split(\"PE/\")[1].split(\".h5\")[0]\n",
    "    df_here['evt'] = event_here\n",
    "    print(f\"Done {event_here}\")\n",
    "    PE_dfs.append(df_here)"
   ]
  },
  {
   "cell_type": "code",
   "execution_count": 10,
   "id": "6186a155-6db9-4b36-a783-3a1f5ba3b78b",
   "metadata": {},
   "outputs": [],
   "source": [
    "final_df = pd.concat(PE_dfs, ignore_index=True)"
   ]
  },
  {
   "cell_type": "code",
   "execution_count": 12,
   "id": "06e6f68a-f5a6-4942-ada1-dc7112409711",
   "metadata": {},
   "outputs": [],
   "source": [
    "final_df.to_hdf('./pe_samples.h5', key='samples', mode='w')\n"
   ]
  },
  {
   "cell_type": "code",
   "execution_count": null,
   "id": "0f225ec4-2cc8-4918-8e6c-fbb92944c771",
   "metadata": {},
   "outputs": [],
   "source": []
  }
 ],
 "metadata": {
  "kernelspec": {
   "display_name": "BumpCosmology",
   "language": "python",
   "name": "bumpcosmology"
  },
  "language_info": {
   "codemirror_mode": {
    "name": "ipython",
    "version": 3
   },
   "file_extension": ".py",
   "mimetype": "text/x-python",
   "name": "python",
   "nbconvert_exporter": "python",
   "pygments_lexer": "ipython3",
   "version": "3.11.5"
  }
 },
 "nbformat": 4,
 "nbformat_minor": 5
}
