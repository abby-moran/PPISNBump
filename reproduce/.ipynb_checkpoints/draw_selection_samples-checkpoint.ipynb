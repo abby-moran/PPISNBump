{
 "cells": [
  {
   "cell_type": "code",
   "execution_count": 1,
   "id": "07538d97-5054-4ae7-a85a-b0d3c3a5e57d",
   "metadata": {},
   "outputs": [],
   "source": [
    "%load_ext autoreload\n",
    "%autoreload 2"
   ]
  },
  {
   "cell_type": "code",
   "execution_count": 2,
   "id": "220ba3a0-c0b8-4bf2-9595-c4b4b500cbe4",
   "metadata": {},
   "outputs": [],
   "source": [
    "import sys\n",
    "sys.path.append('../src/scripts/')\n",
    "import weighting \n",
    "import numpy as np\n",
    "import matplotlib.pyplot as plt\n",
    "import pandas as pd\n",
    "import h5py\n",
    "from scipy import stats\n",
    "from gwpopulation.models.spin import iid_spin_orientation_gaussian_isotropic"
   ]
  },
  {
   "cell_type": "code",
   "execution_count": 3,
   "id": "fd9bb819-76bb-43f6-8630-791afd05820f",
   "metadata": {},
   "outputs": [],
   "source": [
    "#('/home/reed.essick/rates+pop/o3-sensitivity-estimates/LIGO-T2100113-v11/endo3_bbhpop-LIGO-T2100113-v11.hdf5', nsamp=None, desired_pop_wt=None)\n",
    "m1, q, z, a1, a2, cos_tilt1, cos_tilt2, pdraw, ndraw = weighting.extract_selection_samples('../../GW_2025/search_sensitivity/endo3_bbhpop-LIGO-T2100113-v12.hdf5',\n",
    "                                                                                           nsamp=None, desired_pop_wt=None)\n",
    "\n",
    "df = pd.DataFrame({'m1': m1, 'q': q, 'z': z, 'a1': a1, 'a2':a2, 'cos_tilt_1': cos_tilt1, 'cos_tilt_2': cos_tilt2, 'pdraw_m1sqz': pdraw, 'ndraw': ndraw}) #m1 is source frame\n",
    "\n",
    "\n",
    "\n"
   ]
  },
  {
   "cell_type": "code",
   "execution_count": 4,
   "id": "45d8935a-675b-43b8-98fe-9b47f16aa3cd",
   "metadata": {},
   "outputs": [],
   "source": [
    "df['dm1sz_dm1ddl'] = weighting.dm1sz_dm1ddl(df['z'])"
   ]
  },
  {
   "cell_type": "code",
   "execution_count": 5,
   "id": "6d72287d-bbfd-4d01-92bc-560d900e58b5",
   "metadata": {},
   "outputs": [
    {
     "name": "stderr",
     "output_type": "stream",
     "text": [
      "/var/folders/bw/0h0f_0zs4z195525560spdjm0000gn/T/ipykernel_80973/2411710793.py:1: FutureWarning: Starting with pandas version 3.0 all arguments of to_hdf except for the argument 'path_or_buf' will be keyword-only.\n",
      "  df.to_hdf('./selection_samples.h5', 'samples')\n"
     ]
    }
   ],
   "source": [
    "df.to_hdf('./selection_samples.h5', 'samples')"
   ]
  },
  {
   "cell_type": "code",
   "execution_count": null,
   "id": "8c697027-434f-48d3-ab7c-3221a25b4c98",
   "metadata": {},
   "outputs": [],
   "source": []
  }
 ],
 "metadata": {
  "kernelspec": {
   "display_name": "Python 3 (ipykernel)",
   "language": "python",
   "name": "python3"
  },
  "language_info": {
   "codemirror_mode": {
    "name": "ipython",
    "version": 3
   },
   "file_extension": ".py",
   "mimetype": "text/x-python",
   "name": "python",
   "nbconvert_exporter": "python",
   "pygments_lexer": "ipython3",
   "version": "3.11.12"
  }
 },
 "nbformat": 4,
 "nbformat_minor": 5
}
