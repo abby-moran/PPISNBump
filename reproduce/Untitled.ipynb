{
 "cells": [
  {
   "cell_type": "code",
   "execution_count": 1,
   "id": "65511a48-6058-4d08-ab87-d7066539244c",
   "metadata": {},
   "outputs": [
    {
     "data": {
      "text/plain": [
       "<module 'intensity_models' from '/Users/abbymoran/PPISNBump/reproduce/../src/scripts/intensity_models.py'>"
      ]
     },
     "execution_count": 1,
     "metadata": {},
     "output_type": "execute_result"
    }
   ],
   "source": [
    "import os\n",
    "os.environ[\"OMP_NUM_THREADS\"] = \"1\"\n",
    "ndevice = 4\n",
    "#os.environ[\"XLA_FLAGS\"] = \"--xla_cpu_multi_thread_eigen=true intra_op_parallelism_threads=4\"\n",
    "\n",
    "import numpyro\n",
    "numpyro.set_host_device_count(ndevice)\n",
    "\n",
    "numpyro.set_platform('cpu')\n",
    "\n",
    "import matplotlib.pyplot as plt\n",
    "import arviz as az\n",
    "from astropy.cosmology import Planck18\n",
    "import astropy.units as u\n",
    "import sys\n",
    "sys.path.append('../src/scripts/')\n",
    "import intensity_models\n",
    "import jax\n",
    "import numpy as np\n",
    "from numpyro.infer import MCMC, NUTS, SA\n",
    "import os.path as op\n",
    "import pandas as pd\n",
    "import paths\n",
    "from utils import get_priors_from_file\n",
    "from importlib import reload\n",
    "import corner\n",
    "import seaborn as sns\n",
    "from intensity_models import coords\n",
    "import scipy.stats as ss\n",
    "from importlib import reload\n",
    "reload(intensity_models)"
   ]
  },
  {
   "cell_type": "code",
   "execution_count": 2,
   "id": "54aaece6-f616-4480-9831-469716c50060",
   "metadata": {},
   "outputs": [],
   "source": [
    "nmcmc = 750 #1000\n",
    "nchain = 4\n",
    "random_seed = 1652819403"
   ]
  },
  {
   "cell_type": "code",
   "execution_count": 3,
   "id": "e2695220-e295-4f10-b653-dd3360ee1b6f",
   "metadata": {},
   "outputs": [
    {
     "name": "stdout",
     "output_type": "stream",
     "text": [
      "array shapes (we want nevents, nsamples):  (58, 3000) (58, 3000) (58, 3000) (58, 3000)\n"
     ]
    }
   ],
   "source": [
    "prior = get_priors_from_file(\"gwtc3_evolution.prior\")\n",
    "\n",
    "pe_samples = pd.read_hdf('pe_samples.h5', 'samples')\n",
    "pe_samples['pdraw_cosmo']=pe_samples['prior_m1d_q_dL']\n",
    "\n",
    "sel_samples = pd.read_hdf('selection_samples.h5', 'samples')\n",
    "sel_samples['pdraw_cosmo'] = sel_samples['pdraw_m1sqz']*sel_samples['dm1sz_dm1ddl']\n",
    "sel_samples['m1d'] = sel_samples['m1']*(1+sel_samples['z'])\n",
    "sel_samples['dl'] = Planck18.luminosity_distance(sel_samples['z'].to_numpy()).to(u.Gpc).value\n",
    "\n",
    "evts = pe_samples.groupby('evt')\n",
    "m1s = []\n",
    "qs = []\n",
    "dls = []\n",
    "pdraws = []\n",
    "for (n, e) in evts:\n",
    "    m1s.append(e['mass_1'])\n",
    "    qs.append(e['mass_ratio'])\n",
    "    dls.append(e['luminosity_distance_Gpc'])\n",
    "    pdraws.append(e['pdraw_cosmo'])\n",
    "\n",
    "m1s, qs, dls, pdraws = map(np.array, [m1s, qs, dls, pdraws])\n",
    "print(\"array shapes (we want nevents, nsamples): \", m1s.shape, qs.shape, dls.shape, pdraws.shape)"
   ]
  },
  {
   "cell_type": "code",
   "execution_count": null,
   "id": "8f557844-ed5e-492b-af6d-b54169545f80",
   "metadata": {},
   "outputs": [],
   "source": []
  },
  {
   "cell_type": "code",
   "execution_count": null,
   "id": "d744c96a-0747-4280-b981-eb20c1e3c4b0",
   "metadata": {},
   "outputs": [
    {
     "data": {
      "application/vnd.jupyter.widget-view+json": {
       "model_id": "b4d9afa690154dd38cfaa0061f2082ee",
       "version_major": 2,
       "version_minor": 0
      },
      "text/plain": [
       "  0%|          | 0/1500 [00:00<?, ?it/s]"
      ]
     },
     "metadata": {},
     "output_type": "display_data"
    },
    {
     "data": {
      "application/vnd.jupyter.widget-view+json": {
       "model_id": "130298f32bf345339c85730a32e12faa",
       "version_major": 2,
       "version_minor": 0
      },
      "text/plain": [
       "  0%|          | 0/1500 [00:00<?, ?it/s]"
      ]
     },
     "metadata": {},
     "output_type": "display_data"
    },
    {
     "data": {
      "application/vnd.jupyter.widget-view+json": {
       "model_id": "f775447a14044d1ab58c4b4eff755eeb",
       "version_major": 2,
       "version_minor": 0
      },
      "text/plain": [
       "  0%|          | 0/1500 [00:00<?, ?it/s]"
      ]
     },
     "metadata": {},
     "output_type": "display_data"
    },
    {
     "data": {
      "application/vnd.jupyter.widget-view+json": {
       "model_id": "1c62d6b406494344a42589ce91590a49",
       "version_major": 2,
       "version_minor": 0
      },
      "text/plain": [
       "  0%|          | 0/1500 [00:00<?, ?it/s]"
      ]
     },
     "metadata": {},
     "output_type": "display_data"
    }
   ],
   "source": [
    "ndraw = float(sel_samples['ndraw'][0])\n",
    "    \n",
    "kernel = NUTS(intensity_models.pop_cosmo_model)\n",
    "mcmc =MCMC(kernel, num_warmup=nmcmc, num_samples=nmcmc, num_chains=nchain, chain_method=\"parallel\")\n",
    "mcmc.run(jax.random.PRNGKey(random_seed),\n",
    "         m1s, qs, dls, pdraws,\n",
    "         np.asarray(sel_samples['m1d']), np.asarray(sel_samples['q']), np.asarray(sel_samples['dl']), \n",
    "         np.asarray(sel_samples['pdraw_cosmo']), ndraw, prior)\n",
    "trace = az.from_numpyro(mcmc)\n",
    "az.to_netcdf(trace, 'trace_evolution_nocosmo.nc')\n",
    "#print(mcmc.get_samples().keys())"
   ]
  },
  {
   "cell_type": "code",
   "execution_count": null,
   "id": "6c9a4803-6a49-47ee-b8cc-0ee45c75f933",
   "metadata": {},
   "outputs": [],
   "source": []
  }
 ],
 "metadata": {
  "kernelspec": {
   "display_name": "Python 3 (ipykernel)",
   "language": "python",
   "name": "python3"
  },
  "language_info": {
   "codemirror_mode": {
    "name": "ipython",
    "version": 3
   },
   "file_extension": ".py",
   "mimetype": "text/x-python",
   "name": "python",
   "nbconvert_exporter": "python",
   "pygments_lexer": "ipython3",
   "version": "3.11.12"
  }
 },
 "nbformat": 4,
 "nbformat_minor": 5
}
